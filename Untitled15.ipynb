{
 "cells": [
  {
   "cell_type": "code",
   "execution_count": null,
   "id": "c9c224aa-5d49-4f67-bee7-c3fa467592ce",
   "metadata": {},
   "outputs": [],
   "source": [
    "#multiple linear regression\n",
    "1 x : 1 y\n",
    "en math sci total  logistic   ip: en math sc. y:tatal\n",
    "10 2 0  30    60    \n",
    "              580\n"
   ]
  }
 ],
 "metadata": {
  "kernelspec": {
   "display_name": "Python 3 (ipykernel)",
   "language": "python",
   "name": "python3"
  },
  "language_info": {
   "codemirror_mode": {
    "name": "ipython",
    "version": 3
   },
   "file_extension": ".py",
   "mimetype": "text/x-python",
   "name": "python",
   "nbconvert_exporter": "python",
   "pygments_lexer": "ipython3",
   "version": "3.12.6"
  }
 },
 "nbformat": 4,
 "nbformat_minor": 5
}
